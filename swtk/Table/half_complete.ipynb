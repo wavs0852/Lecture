{
 "cells": [
  {
   "cell_type": "code",
   "execution_count": 56,
   "metadata": {},
   "outputs": [
    {
     "data": {
      "text/plain": [
       "[['1330', '1430', '1530', '1630', '1000'],\n",
       " ['2130', '2230', '2330', '2530', '2630'],\n",
       " ['3230', '3130', '3430', '3330', '3530']]"
      ]
     },
     "execution_count": 56,
     "metadata": {},
     "output_type": "execute_result"
    }
   ],
   "source": [
    "import pandas as pd\n",
    "import time\n",
    "\n",
    "def load_(file):\n",
    "    dct = {}\n",
    "    data = pd.read_excel(file)\n",
    "    col = list(data.columns)\n",
    "    for i in range(len(col)):\n",
    "        atr = list(data[col[i]])\n",
    "        for grade in range(len(atr)):\n",
    "            if pd.isna(atr[grade]) == False:\n",
    "                cls = atr[grade].split('/')\n",
    "                num, nme =  str(grade+1) + str(i+1) + cls[1], col[i] + '/' + cls[0]\n",
    "                dct[num] = nme\n",
    "\n",
    "    return list(dct.keys()), dct, grade+1\n",
    "\n",
    "def preprocess_(serial, grade):\n",
    "    if grade == 0:\n",
    "        return serial\n",
    "    cnt = 0\n",
    "    for i in serial:\n",
    "        if i[0] == str(grade):\n",
    "            cnt += 1\n",
    "    if cnt < 5:\n",
    "        dummy = [str(grade) + '000']\n",
    "        serial += dummy * (5-cnt)\n",
    "    elif cnt > 5:\n",
    "        print(f'{grade}학년의 강의 수가 5개를 초과하여 계산이 불가합니다.')\n",
    "\n",
    "    preprocess_(serial, grade-1)\n",
    "\n",
    "lst = []\n",
    "def search_(serial, grade):\n",
    "    if len(serial) == 0:\n",
    "        return\n",
    "\n",
    "    temp = []\n",
    "    for n in range(grade):\n",
    "        for i in range(len(serial)):\n",
    "            if serial[i][1] not in [k[1] for k in temp]:\n",
    "                if serial[i][0] == str(n+1):\n",
    "                    temp.append(serial.pop(i))\n",
    "                    break\n",
    "\n",
    "    if len(temp) == grade:\n",
    "        lst.append(temp)\n",
    "    else:\n",
    "        serial.extend(temp)\n",
    "        for g in lst:\n",
    "            for s in range(len(serial)):\n",
    "                if serial[s][1] not in [j[1] for j in g]:\n",
    "                    for u in range(len(g)):\n",
    "                        if g[u][0] == serial[s][0]:\n",
    "                            g[u], serial[s] = serial[s], g[u]\n",
    "\n",
    "\n",
    "    search_(lst_serial, grade)\n",
    "\n",
    "lst_serial, dct_lecture, grade = load_('/mnt/c/Users/MLKU/Lecture/swtk/Table/lecture.xlsx')\n",
    "preprocess_(lst_serial, grade)\n",
    "search_(lst_serial, grade)\n",
    "\n",
    "import pprint\n",
    "\n",
    "lst = list(map(list, zip(*lst)))\n",
    "lst\n"
   ]
  },
  {
   "cell_type": "code",
   "execution_count": 82,
   "metadata": {},
   "outputs": [
    {
     "name": "stdout",
     "output_type": "stream",
     "text": [
      "1\n",
      "[['0000', '0000', '0000', '0000', '0000', '0000', 'xxxx', 'xxxx', '0000', '0000', '0000', '0000', '0000', '0000', '0000', '0000', '0000', '0000'],\n",
      " ['0000', '0000', '0000', '0000', 'xxxx', 'xxxx', 'xxxx', 'xxxx', '0000', '0000', '0000', '0000', '0000', '0000', '0000', '0000', '0000', '0000'],\n",
      " ['0000', '0000', '0000', '0000', '0000', '0000', 'xxxx', 'xxxx', '0000', '0000', '0000', '0000', '0000', '0000', 'xxxx', 'xxxx', '0000', '0000'],\n",
      " ['0000', '0000', '0000', '0000', '0000', '0000', 'xxxx', 'xxxx', '0000', '0000', '0000', '0000', '0000', '0000', '0000', '0000', '0000', '0000'],\n",
      " ['0000', '0000', '0000', '0000', '0000', '0000', 'xxxx', 'xxxx', '0000', '0000', '0000', '0000', '0000', '0000', '0000', '0000', '0000', '0000']]\n"
     ]
    }
   ],
   "source": [
    "import pprint\n",
    "import pandas as pd\n",
    "\n",
    "room = pd.read_excel('./rooms.xlsx', sheet_name=None)\n",
    "room_name = list(room.keys())\n",
    "\n",
    "if len(room_name) >= grade:\n",
    "    print(1)\n",
    "elif len(room_name) < grade:\n",
    "    print(2)\n",
    "\n",
    "nlst = room[room_name[0]].loc[0:17].fillna('0000').T.values.tolist()\n",
    "\n",
    "pprint.pprint(nlst, width=300)"
   ]
  },
  {
   "cell_type": "code",
   "execution_count": 106,
   "metadata": {},
   "outputs": [
    {
     "name": "stdout",
     "output_type": "stream",
     "text": [
      "['0000', '0000', '0000', '0000', '0000', '0000', '0000', '0000', '0000', '0000', '0000', '0000']\n",
      "0000 0000\n",
      "0000 0000\n",
      "0000 0000\n",
      "0000 0000\n",
      "0000 0000\n",
      "0000 0000\n",
      "['0000', '0000', '0000', '0000', 'xxxx', 'xxxx', '0000', '0000', '0000', '0000', '0000', '0000']\n",
      "0000 0000\n",
      "0000 0000\n",
      "0000 0000\n",
      "0000 0000\n",
      "xxxx 0000\n",
      "xxxx 0000\n",
      "['0000', '0000', '0000', '0000', '0000', '0000', '0000', '0000', '0000', '0000', '0000', '0000']\n",
      "0000 0000\n",
      "0000 0000\n",
      "0000 0000\n",
      "0000 0000\n",
      "0000 0000\n",
      "0000 0000\n"
     ]
    }
   ],
   "source": [
    "\n",
    "\n",
    "def check(one, two):\n",
    "    pass\n",
    "\n",
    "\n",
    "for i in range(5):\n",
    "    if i < 2:\n",
    "        # k = nlst[i][8:14] + nlst[i+2][8:14]\n",
    "        # print(k)\n",
    "        pass\n",
    "\n",
    "    else:\n",
    "        b = nlst[i-2][0:6] + nlst[i][0:6]\n",
    "        print(b)\n",
    "        for h in range(6):\n",
    "            print(b[h], b[h+6])\n",
    "\n"
   ]
  },
  {
   "cell_type": "code",
   "execution_count": 87,
   "metadata": {},
   "outputs": [
    {
     "name": "stdout",
     "output_type": "stream",
     "text": [
      "['0000', '0000', '0000', '0000', '0000', '0000']\n",
      "['0000', '0000', '0000', '0000', '0000', '0000']\n",
      "['0000', '0000', '0000', '0000', '0000', '0000']\n",
      "['0000', '0000', '0000', '0000', '0000', '0000']\n",
      "['0000', '0000', '0000', '0000', '0000', '0000']\n",
      "['0000', '0000', '0000', '0000', '0000', '0000']\n",
      "['0000', '0000', '0000', '0000', 'xxxx', 'xxxx']\n",
      "['0000', '0000', '0000', '0000', '0000', '0000']\n",
      "['0000', '0000', '0000', '0000', '0000', '0000']\n",
      "['0000', '0000', '0000', '0000', '0000', '0000']\n"
     ]
    }
   ],
   "source": [
    "\n",
    "for i in range(5):\n",
    "    if i < 2:\n",
    "        print(nlst[i][8:14])\n",
    "        print(nlst[i+2][8:14])\n",
    "    # elif i < 4:\n",
    "    #     print(nlst[i-2][0:6])\n",
    "    #     print(nlst[i][0:6])\n",
    "    else:\n",
    "        print(nlst[i-2][0:6])\n",
    "        print(nlst[i][0:6])"
   ]
  }
 ],
 "metadata": {
  "kernelspec": {
   "display_name": "base",
   "language": "python",
   "name": "python3"
  },
  "language_info": {
   "codemirror_mode": {
    "name": "ipython",
    "version": 3
   },
   "file_extension": ".py",
   "mimetype": "text/x-python",
   "name": "python",
   "nbconvert_exporter": "python",
   "pygments_lexer": "ipython3",
   "version": "3.9.7"
  }
 },
 "nbformat": 4,
 "nbformat_minor": 2
}
