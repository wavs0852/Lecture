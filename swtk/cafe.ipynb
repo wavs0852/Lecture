{
 "cells": [
  {
   "cell_type": "code",
   "execution_count": 10,
   "metadata": {},
   "outputs": [
    {
     "name": "stdout",
     "output_type": "stream",
     "text": [
      "메뉴\n",
      "    +-----------------------\n",
      "    | 1. 아메리카노  1000원\n",
      "    | 2. 에스프레소  1000원\n",
      "    | 3. 카페라떼   1500원\n",
      "    | 4. 바닐라라떼  1500원\n",
      "    | 5. 카페모카   2000원\n",
      "    | 6. 달고나라뗴  2500원\n",
      "    +-----------------------\n",
      "    | 7. 주문다시\n",
      "    | 8. 주문종료\n",
      "    +-----------------------\n",
      "\n",
      " ----- 주문내역 -----\n",
      "['아메리카노', 1000]\n",
      "['에스프레소', 1000]\n",
      "['카페라떼', 1500]\n",
      "['바닐라라떼', 1500]\n",
      "['카페모카', 2000]\n",
      "['달고나라뗴', 2500]\n",
      "\n",
      " ----- 금액부족 -----\n",
      "금액이 4500원 부족합니다.\n",
      "\n",
      " ----- 금액처리 -----\n",
      "정상처리 되었습니다.\n",
      "잔액은 0원 입니다.\n"
     ]
    }
   ],
   "source": [
    "# 메뉴를 보여주는 함수\n",
    "def show(lst):\n",
    "    print('메뉴')\n",
    "    print(f'    +{\"-\" * 23}')\n",
    "    for i in range(1, 7):\n",
    "        item = lst[i]\n",
    "        print('    | {:<1}. {:<7}{:<4}원'.format(i ,lst[i][0], lst[i][1]))\n",
    "    print(f'    +{\"-\" * 23}')\n",
    "    print('    | 7. 주문다시\\n    | 8. 주문종료')\n",
    "    print(f'    +{\"-\" * 23}')\n",
    "\n",
    "# 사용자의 금액과 주문을 받고 처리하여 리스트로 반환해주는 함수\n",
    "def jumun(lst):\n",
    "    choice = []\n",
    "    count = 0\n",
    "    show(lst)\n",
    "    budget = int(input('금액을 입력하시오.'))\n",
    "\n",
    "    while True:\n",
    "        try:\n",
    "            number = int(input('메뉴를 선택해주십시오 : '))\n",
    "            if 1 <= number <= 6:\n",
    "                count += 1\n",
    "                if count == 1:\n",
    "                    print('\\n', '-' * 5, '주문내역', '-' * 5)\n",
    "\n",
    "                choice.append(lst[number])\n",
    "                print(lst[number])\n",
    "\n",
    "            elif number == 7:\n",
    "                choice = []\n",
    "                print('\\n', '-' * 5, '주문다시', '-' * 5)\n",
    "                continue\n",
    "            elif number == 8:\n",
    "                break\n",
    "            else:\n",
    "                print('잘못된 입력입니다.')\n",
    "                continue\n",
    "        except:\n",
    "            print('잘못된 입력입니다.')\n",
    "    return choice, budget\n",
    "\n",
    "# 반환된 금액과 리스트를 통해 가격을 계산해주는 함수\n",
    "def calc(choice, money):\n",
    "    price = 0\n",
    "    for i in choice:\n",
    "        price += i[1]\n",
    "\n",
    "    if money < price:\n",
    "        while True:\n",
    "            print('\\n', '-' * 5, '금액부족', '-' * 5)\n",
    "            print(f'금액이 {price - money}원 부족합니다.')\n",
    "            add = int(input('추가금액을 입력해주십시오.'))\n",
    "            if money + add >= price:\n",
    "                break\n",
    "            else:\n",
    "                continue\n",
    "        print('\\n', '-' * 5, '금액처리', '-' * 5)\n",
    "        print(f'정상처리 되었습니다.\\n잔액은 {(money + add) - price}원 입니다.')\n",
    "    else:\n",
    "        print('\\n', '-' * 5, '금액처리', '-' * 5)\n",
    "        print(f'정상처리 되었습니다.\\n잔액은 {money - price}원 입니다.')\n",
    "\n",
    "# 실행 영역\n",
    "if __name__ == '__main__':\n",
    "    menu = {1:['아메리카노', 1000], \n",
    "            2:['에스프레소', 1000], \n",
    "            3:['카페라떼', 1500], \n",
    "            4:['바닐라라떼', 1500], \n",
    "            5:['카페모카', 2000], \n",
    "            6:['달고나라뗴', 2500]}\n",
    "\n",
    "    chosen, budget = jumun(menu)\n",
    "    if not len(chosen) == 0:\n",
    "        calc(chosen, budget)\n",
    "    else:\n",
    "        print('주문 내역이 없습니다.')"
   ]
  },
  {
   "cell_type": "code",
   "execution_count": 11,
   "metadata": {},
   "outputs": [
    {
     "name": "stdout",
     "output_type": "stream",
     "text": [
      "정수 입력이 성공하였습니다!\n"
     ]
    }
   ],
   "source": [
    "while True:\n",
    "    try:\n",
    "        n = input(\"정수를 입력하시오 : \")\n",
    "        n = int(n)  # 자료형 변환 예외 발생 가능 구문\n",
    "        break\n",
    "    except ValueError:\n",
    "        print(\"정수가 아닙니다. 다시 입력하시오. \")\n",
    "print(\"정수 입력이 성공하였습니다!\")\n"
   ]
  }
 ],
 "metadata": {
  "kernelspec": {
   "display_name": "Python 3",
   "language": "python",
   "name": "python3"
  },
  "language_info": {
   "codemirror_mode": {
    "name": "ipython",
    "version": 3
   },
   "file_extension": ".py",
   "mimetype": "text/x-python",
   "name": "python",
   "nbconvert_exporter": "python",
   "pygments_lexer": "ipython3",
   "version": "3.9.0"
  }
 },
 "nbformat": 4,
 "nbformat_minor": 2
}
