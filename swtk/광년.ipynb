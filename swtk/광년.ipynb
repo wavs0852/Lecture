{
 "cells": [
  {
   "cell_type": "code",
   "execution_count": 69,
   "metadata": {},
   "outputs": [
    {
     "name": "stdout",
     "output_type": "stream",
     "text": [
      "Earth                                                             Alpha Centauri     YEAR  |  DAY  |  HOUR\n",
      "□□□□□□□□□□□□□□□□□□□□□□□□□□□□□□□□□□□□□□□□□□□□□□□□□□□□□□□□□□□□□□□□□□□□□□□□□□□□□□□■     8599  |   66  |    11\n",
      "■□□□□□□□□□□□□□□□□□□□□□□□□□□□□□□□□□□□□□□□□□□□□□□□□□□□□□□□□□□□□□□□□□□□□□□□□□□□□□□□    17198  |  132  |    22\n"
     ]
    }
   ],
   "source": [
    "import time\n",
    "from sys import stdout\n",
    "\n",
    "# calculator\n",
    "km_ly = 9460730472580.8\n",
    "km_alpha = km_ly * 4.22\n",
    "rt_alpha = km_alpha * 2\n",
    "parker = 530000\n",
    "\n",
    "tothour = round(rt_alpha // parker)\n",
    "unit, hour = divmod(tothour, 24)\n",
    "year, day = divmod(unit, 365)\n",
    "\n",
    "# progress bar\n",
    "proglst = []\n",
    "proglen = 80\n",
    "progspd = 0.1\n",
    "\n",
    "print(f\"Earth{'  '*30} Alpha Centauri\", end='') #70\n",
    "print(\"    %5s  |  %3s  |  %4s\" % ('YEAR', 'DAY', 'HOUR'))\n",
    "\n",
    "for fgo in range(proglen):\n",
    "  progbar = list(\"□\" * proglen)\n",
    "  progbar[fgo] = \"■\"\n",
    "  proglst.append(progbar)\n",
    "  stdout.write(f\"\\r{''.join(progbar)}\")\n",
    "  stdout.flush()\n",
    "  time.sleep(progspd)\n",
    "  if fgo == proglen - 1:\n",
    "    print(\"    %5d  |  %3d  |  %4d\" % (year/2, day/2, hour/2))\n",
    "\n",
    "for sgo in reversed(proglst):\n",
    "  stdout.write(f\"\\r{''.join(sgo)}\")\n",
    "  stdout.flush()\n",
    "  time.sleep(progspd)\n",
    "  if sgo == proglst[0]:\n",
    "    print(\"    %5d  |  %3d  |  %4d\" % (year, day, hour))"
   ]
  },
  {
   "cell_type": "code",
   "execution_count": 9,
   "metadata": {},
   "outputs": [
    {
     "name": "stdout",
     "output_type": "stream",
     "text": [
      "□□□□□□□□□□□□□□□□□□□□□□□■□□□□□□□□□□□□□□□□□□□□□□□□□□□□□□□□□□□□□□□□□□□□□□□□□□□□□□□□"
     ]
    },
    {
     "ename": "KeyboardInterrupt",
     "evalue": "",
     "output_type": "error",
     "traceback": [
      "\u001b[0;31m---------------------------------------------------------------------------\u001b[0m",
      "\u001b[0;31mKeyboardInterrupt\u001b[0m                         Traceback (most recent call last)",
      "\u001b[0;32m/tmp/ipykernel_2586/1923200691.py\u001b[0m in \u001b[0;36m<module>\u001b[0;34m\u001b[0m\n\u001b[1;32m      9\u001b[0m   \u001b[0mstdout\u001b[0m\u001b[0;34m.\u001b[0m\u001b[0mwrite\u001b[0m\u001b[0;34m(\u001b[0m\u001b[0;34mf\"\\r{''.join(progbar)}\"\u001b[0m\u001b[0;34m)\u001b[0m\u001b[0;34m\u001b[0m\u001b[0;34m\u001b[0m\u001b[0m\n\u001b[1;32m     10\u001b[0m   \u001b[0mstdout\u001b[0m\u001b[0;34m.\u001b[0m\u001b[0mflush\u001b[0m\u001b[0;34m(\u001b[0m\u001b[0;34m)\u001b[0m\u001b[0;34m\u001b[0m\u001b[0;34m\u001b[0m\u001b[0m\n\u001b[0;32m---> 11\u001b[0;31m   \u001b[0mtime\u001b[0m\u001b[0;34m.\u001b[0m\u001b[0msleep\u001b[0m\u001b[0;34m(\u001b[0m\u001b[0mprogspd\u001b[0m\u001b[0;34m)\u001b[0m\u001b[0;34m\u001b[0m\u001b[0;34m\u001b[0m\u001b[0m\n\u001b[0m\u001b[1;32m     12\u001b[0m   \u001b[0;32mif\u001b[0m \u001b[0mfgo\u001b[0m \u001b[0;34m==\u001b[0m \u001b[0mproglen\u001b[0m \u001b[0;34m-\u001b[0m \u001b[0;36m1\u001b[0m\u001b[0;34m:\u001b[0m\u001b[0;34m\u001b[0m\u001b[0;34m\u001b[0m\u001b[0m\n\u001b[1;32m     13\u001b[0m     \u001b[0mprint\u001b[0m\u001b[0;34m(\u001b[0m\u001b[0;34m\"    %5d  |  %3d  |  %4d\"\u001b[0m \u001b[0;34m%\u001b[0m \u001b[0;34m(\u001b[0m\u001b[0myear\u001b[0m\u001b[0;34m/\u001b[0m\u001b[0;36m2\u001b[0m\u001b[0;34m,\u001b[0m \u001b[0mday\u001b[0m\u001b[0;34m/\u001b[0m\u001b[0;36m2\u001b[0m\u001b[0;34m,\u001b[0m \u001b[0mhour\u001b[0m\u001b[0;34m/\u001b[0m\u001b[0;36m2\u001b[0m\u001b[0;34m)\u001b[0m\u001b[0;34m)\u001b[0m\u001b[0;34m\u001b[0m\u001b[0;34m\u001b[0m\u001b[0m\n",
      "\u001b[0;31mKeyboardInterrupt\u001b[0m: "
     ]
    }
   ],
   "source": [
    "proglst = []\n",
    "proglen = 80\n",
    "progspd = 0.1\n",
    "\n",
    "for fgo in range(proglen):\n",
    "  progbar = list(\"□\" * proglen)\n",
    "  progbar[fgo] = \"■\"\n",
    "  proglst.append(progbar)\n",
    "  stdout.write(f\"\\r{''.join(progbar)}\")\n",
    "  stdout.flush()\n",
    "  time.sleep(progspd)\n",
    "  if fgo == proglen - 1:\n",
    "    print(\"    %5d  |  %3d  |  %4d\" % (year/2, day/2, hour/2))\n",
    "\n",
    "for sgo in reversed(proglst):\n",
    "  stdout.write(f\"\\r{''.join(sgo)}\")\n",
    "  stdout.flush()\n",
    "  time.sleep(progspd)\n",
    "  if sgo == proglst[0]:\n",
    "    print(\"    %5d  |  %3d  |  %4d\" % (year, day, hour))"
   ]
  },
  {
   "cell_type": "code",
   "execution_count": 67,
   "metadata": {},
   "outputs": [],
   "source": [
    "from sys import stdout\n",
    "import time\n",
    "from IPython.display import clear_output \n",
    "\n",
    "lst = ['@===(^0^)@',' @==(^0^)@', '  @=(^0^)@', '   @(^0^)@', '   @(^0^)=@', '   @(^0^)==@','   @(^0^)===@']\n",
    "\n",
    "for s in range(10):\n",
    "    for i in lst:\n",
    "\n",
    "        print('\\r', i, end=' ')\n",
    "\n",
    "\n",
    "        stdout.flush()\n",
    "        time.sleep(0.2)\n",
    "    clear_output()"
   ]
  },
  {
   "cell_type": "code",
   "execution_count": 8,
   "metadata": {},
   "outputs": [
    {
     "name": "stdout",
     "output_type": "stream",
     "text": [
      "('⊂_ヽ\\n'\n",
      " '\\u3000 ＼＼ Λ＿Λ\\n'\n",
      " '\\u3000\\u3000 ＼( ‘ㅅ’ ) \\n'\n",
      " '\\u3000\\u3000\\u3000 >\\u3000⌒ヽ\\n'\n",
      " '\\u3000\\u3000\\u3000/ \\u3000 へ＼\\n'\n",
      " '\\u3000\\u3000 /\\u3000\\u3000/\\u3000＼＼\\n'\n",
      " '\\u3000\\u3000 ﾚ\\u3000ノ\\u3000\\u3000 ヽ_つ\\n'\n",
      " '\\u3000\\u3000/\\u3000/\\n'\n",
      " '\\u3000 /\\u3000/|\\n'\n",
      " '\\u3000(\\u3000(ヽ\\n'\n",
      " '\\u3000|\\u3000|、＼\\n'\n",
      " '\\u3000| 丿 ＼ ⌒)\\n'\n",
      " '\\u3000| |\\u3000\\u3000) /\\n'\n",
      " '`ノ )\\u3000\\u3000Lﾉ')\n"
     ]
    }
   ],
   "source": [
    "import pprint\n",
    "\n",
    "\n",
    "pprint.pprint(a)"
   ]
  },
  {
   "cell_type": "code",
   "execution_count": 9,
   "metadata": {},
   "outputs": [
    {
     "name": "stdout",
     "output_type": "stream",
     "text": [
      "Earth                                                             Alpha Centauri     YEAR  |  DAY  |  HOUR\n",
      "□□□□□□□□□□□□□□□□□□□□□□□□□□□□□□□□□□□□□□□□□□□□□□□□□□□□□□□□□□□□□□□□□□□□□□□□□□□□□□□■     8599  |   66  |    11\n",
      "■□□□□□□□□□□□□□□□□□□□□□□□□□□□□□□□□□□□□□□□□□□□□□□□□□□□□□□□□□□□□□□□□□□□□□□□□□□□□□□□    17198  |  132  |    22\n"
     ]
    }
   ],
   "source": [
    "import time\n",
    "\n",
    "# calculator\n",
    "km_ly = 9460730472580.8\n",
    "km_alpha = km_ly * 4.22\n",
    "rt_alpha = km_alpha * 2\n",
    "parker = 530000\n",
    "\n",
    "tothour = round(rt_alpha / parker)\n",
    "unit, hour = divmod(tothour, 24)\n",
    "year, day = divmod(unit, 365)\n",
    "\n",
    "# progress bar\n",
    "proglst = []\n",
    "proglen = 80\n",
    "progtme = 0.1\n",
    "\n",
    "print(f\"Earth{'  '*30} Alpha Centauri\", end='') #70\n",
    "print(\"    %5s  |  %3s  |  %4s\" % ('YEAR', 'DAY', 'HOUR'))\n",
    "\n",
    "for fgo in range(proglen):\n",
    "  progbar = list(\"□\" * proglen)\n",
    "  progbar[fgo] = \"■\"\n",
    "  proglst.append(progbar)\n",
    "  print(f\"\\r{''.join(progbar)}\", end='', flush=True)\n",
    "  time.sleep(progtme)\n",
    "  if fgo == proglen - 1:\n",
    "    print(\"    %5d  |  %3d  |  %4d\" % (year/2, day/2, hour/2))\n",
    "\n",
    "for sgo in reversed(proglst):\n",
    "  print(f\"\\r{''.join(sgo)}\", end='', flush=True)\n",
    "  time.sleep(progtme)\n",
    "  if sgo == proglst[0]:\n",
    "    print(\"    %5d  |  %3d  |  %4d\" % (year, day, hour))"
   ]
  },
  {
   "cell_type": "code",
   "execution_count": 7,
   "metadata": {},
   "outputs": [
    {
     "name": "stdout",
     "output_type": "stream",
     "text": [
      "Earth                              Alpha Centauri\n",
      "     YEAR  |  DAY  |  HOUR\n",
      "■■■■■■■■■■■■■■■■■■■■■■■■■■■■■■■■■■■■■■■■■■■■■■■■■■■■■■■■■■■■■■■■■■■■■■■■■■■■■■■■     8599  |  1595  |  75328835\n",
      "□□□□□□□□□□□□□□□□□□□□□□□□□□□□□□□□□□□□□□□□□□□□□□□□□□□□□□□□□□□□□□□□□□□□□□□□□□□□□□□□    17198  |  3190  |  150657670\n"
     ]
    }
   ],
   "source": [
    "import time\n",
    "\n",
    "# Constants\n",
    "km_ly = 9460730472580.8\n",
    "km_alpha = km_ly * 4.22\n",
    "rt_alpha = km_alpha * 2\n",
    "parker = 530000\n",
    "\n",
    "# Calculate time\n",
    "tothour = round(rt_alpha / parker)\n",
    "year, day = divmod(tothour, 24 * 365)\n",
    "\n",
    "# Progress bar\n",
    "proglen = 80\n",
    "progtme = 0.1\n",
    "\n",
    "print(f\"Earth{' ' * 30}Alpha Centauri\")\n",
    "print(\"    %5s  |  %3s  |  %4s\" % ('YEAR', 'DAY', 'HOUR'))\n",
    "\n",
    "for fgo in range(proglen + 1):\n",
    "    progress = fgo / proglen\n",
    "    progbar = \"■\" * int(progress * proglen) + \"□\" * (proglen - int(progress * proglen))\n",
    "    print(f\"\\r{progbar}\", end='', flush=True)\n",
    "    if fgo == proglen:\n",
    "        print(f\"    {year // 2:5d}  |  {day // 2:3d}  |  {tothour // 2:4d}\")\n",
    "    time.sleep(progtme)\n",
    "\n",
    "for sgo in range(proglen, -1, -1):\n",
    "    progress = sgo / proglen\n",
    "    progbar = \"■\" * int(progress * proglen) + \"□\" * (proglen - int(progress * proglen))\n",
    "    print(f\"\\r{progbar}\", end='', flush=True)\n",
    "    if sgo == 0:\n",
    "        print(f\"    {year:5d}  |  {day:3d}  |  {tothour:4d}\")\n",
    "    time.sleep(progtme)"
   ]
  }
 ],
 "metadata": {
  "kernelspec": {
   "display_name": "wavs",
   "language": "python",
   "name": "python3"
  },
  "language_info": {
   "codemirror_mode": {
    "name": "ipython",
    "version": 3
   },
   "file_extension": ".py",
   "mimetype": "text/x-python",
   "name": "python",
   "nbconvert_exporter": "python",
   "pygments_lexer": "ipython3",
   "version": "3.9.7"
  },
  "orig_nbformat": 4
 },
 "nbformat": 4,
 "nbformat_minor": 2
}
