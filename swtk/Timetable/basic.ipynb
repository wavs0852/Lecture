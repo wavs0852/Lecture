{
 "cells": [
  {
   "cell_type": "code",
   "execution_count": 9,
   "metadata": {},
   "outputs": [
    {
     "name": "stdout",
     "output_type": "stream",
     "text": [
      "deque([1])\n"
     ]
    }
   ],
   "source": [
    "from collections import deque\n",
    "\n",
    "queue = deque()\n",
    "\n",
    "queue.append(3)\n",
    "queue.append(1)\n",
    "queue.popleft()\n",
    "\n",
    "print(queue)"
   ]
  },
  {
   "cell_type": "code",
   "execution_count": 23,
   "metadata": {},
   "outputs": [
    {
     "name": "stdout",
     "output_type": "stream",
     "text": [
      "10\n",
      "9\n",
      "8\n",
      "7\n",
      "6\n",
      "5\n",
      "4\n",
      "3\n",
      "2\n"
     ]
    },
    {
     "data": {
      "text/plain": [
       "3628800"
      ]
     },
     "execution_count": 23,
     "metadata": {},
     "output_type": "execute_result"
    }
   ],
   "source": [
    "def fact(x):\n",
    "    if x > 1:\n",
    "        print(x)\n",
    "        return x * fact(x-1)\n",
    "    else:\n",
    "        return x\n",
    "\n",
    "fact(10)"
   ]
  },
  {
   "cell_type": "code",
   "execution_count": 30,
   "metadata": {},
   "outputs": [
    {
     "name": "stdout",
     "output_type": "stream",
     "text": [
      "5\n",
      "4\n",
      "3\n",
      "2\n",
      "1\n"
     ]
    },
    {
     "data": {
      "text/plain": [
       "0"
      ]
     },
     "execution_count": 30,
     "metadata": {},
     "output_type": "execute_result"
    }
   ],
   "source": [
    "def f(x):\n",
    "    if x == 0:\n",
    "        return x\n",
    "    else:\n",
    "        print(x)\n",
    "        return f(x-1)\n",
    "    \n",
    "\n",
    "f(5)"
   ]
  },
  {
   "cell_type": "code",
   "execution_count": null,
   "metadata": {},
   "outputs": [],
   "source": []
  },
  {
   "cell_type": "code",
   "execution_count": 38,
   "metadata": {},
   "outputs": [
    {
     "name": "stdout",
     "output_type": "stream",
     "text": [
      "__init__() 실행\n",
      "뺄셈 결과는 -10 입니다.\n",
      "덧셈 결과는 30 입니다.\n"
     ]
    },
    {
     "data": {
      "text/plain": [
       "30"
      ]
     },
     "execution_count": 38,
     "metadata": {},
     "output_type": "execute_result"
    }
   ],
   "source": [
    "class Calculator:\n",
    "    def __init__(self, num1, num2):\n",
    "        print('__init__() 실행')\n",
    "        self.num1 = num1\n",
    "        self.num2 = num2\n",
    "    def add(self):\n",
    "        add_result = self.num1 + self.num2\n",
    "        print('덧셈 결과는', add_result, '입니다.')\n",
    "        return add_result\n",
    "    def subtract(self):\n",
    "        subtract_result = self.num1 - self.num2\n",
    "        print('뺄셈 결과는', subtract_result, '입니다.')\n",
    "        return subtract_result\n",
    "\n",
    "cal = Calculator(10, 20)\n",
    "cal.subtract()\n",
    "cal.add()"
   ]
  },
  {
   "cell_type": "code",
   "execution_count": 56,
   "metadata": {},
   "outputs": [
    {
     "name": "stdout",
     "output_type": "stream",
     "text": [
      "색상 : black\n",
      "길이 : 400\n",
      "전방으로 100 미터 이동하였습니다.\n",
      "색상 : red\n",
      "길이 : 350\n",
      "후방으로 50 미터 이동하였습니다.\n"
     ]
    }
   ],
   "source": [
    "class ccar:\n",
    "    def __init__(self, color, length, forward, back):\n",
    "        self.color = color\n",
    "        self.length = length\n",
    "        self.forward = forward\n",
    "        self.back = back\n",
    "        print(f'색상 : {self.color}\\n길이 : {self.length}')\n",
    "        \n",
    "        \n",
    "    def go_forward(self):\n",
    "        print('전방으로', self.forward, '미터 이동하였습니다.')\n",
    "\n",
    "        \n",
    "    def go_back(self):\n",
    "        print('후방으로', self.back, '미터 이동하였습니다.')\n",
    "\n",
    "\n",
    "car1 = ccar('black', 400, 100, 0)\n",
    "car1.go_forward()\n",
    "\n",
    "car2 = ccar('red', 350, 0, 50)\n",
    "car2.go_back()"
   ]
  },
  {
   "cell_type": "code",
   "execution_count": 69,
   "metadata": {},
   "outputs": [
    {
     "data": {
      "text/plain": [
       "24"
      ]
     },
     "execution_count": 69,
     "metadata": {},
     "output_type": "execute_result"
    }
   ],
   "source": [
    "def fct(n):\n",
    "    if n == 1:\n",
    "        return 1\n",
    "    elif n >= 2:\n",
    "        return n * fct(n-1)\n",
    "    \n",
    "fct(4)"
   ]
  },
  {
   "cell_type": "code",
   "execution_count": 67,
   "metadata": {},
   "outputs": [
    {
     "name": "stdout",
     "output_type": "stream",
     "text": [
      "4\n",
      "3\n",
      "2\n"
     ]
    },
    {
     "data": {
      "text/plain": [
       "24"
      ]
     },
     "execution_count": 67,
     "metadata": {},
     "output_type": "execute_result"
    }
   ],
   "source": [
    "def fact(x):\n",
    "    if x > 1:\n",
    "        print(x)\n",
    "        return x * fact(x-1)\n",
    "    else:\n",
    "        return x\n",
    "\n",
    "fact(4)"
   ]
  }
 ],
 "metadata": {
  "kernelspec": {
   "display_name": "base",
   "language": "python",
   "name": "python3"
  },
  "language_info": {
   "codemirror_mode": {
    "name": "ipython",
    "version": 3
   },
   "file_extension": ".py",
   "mimetype": "text/x-python",
   "name": "python",
   "nbconvert_exporter": "python",
   "pygments_lexer": "ipython3",
   "version": "3.9.7"
  }
 },
 "nbformat": 4,
 "nbformat_minor": 2
}
