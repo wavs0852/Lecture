{
 "cells": [
  {
   "cell_type": "code",
   "execution_count": 445,
   "metadata": {},
   "outputs": [
    {
     "data": {
      "text/plain": [
       "[['1330', '2130', '3230'],\n",
       " ['1430', '2230', '3130'],\n",
       " ['1530', '2330', '3430'],\n",
       " ['1630', '2530', '3330'],\n",
       " ['1000', '2630', '3530']]"
      ]
     },
     "execution_count": 445,
     "metadata": {},
     "output_type": "execute_result"
    }
   ],
   "source": [
    "import pandas as pd\n",
    "import time\n",
    "\n",
    "def load_(file):\n",
    "    dct = {}\n",
    "    data = pd.read_excel(file)\n",
    "    col = list(data.columns)\n",
    "    for i in range(len(col)):\n",
    "        atr = list(data[col[i]])\n",
    "        for grade in range(len(atr)):\n",
    "            if pd.isna(atr[grade]) == False:\n",
    "                cls = atr[grade].split('/')\n",
    "                num, nme =  str(grade+1) + str(i+1) +cls[1], col[i] + '/' + cls[0]\n",
    "                dct[num] = nme\n",
    "\n",
    "    return list(dct.keys()), dct, grade + 1\n",
    "\n",
    "def preprocess_(serial, grade):\n",
    "    if grade == 0:\n",
    "        return serial\n",
    "    cnt = 0\n",
    "    for i in serial:\n",
    "        if i[0] == str(grade):\n",
    "            cnt += 1\n",
    "    if cnt < 5:\n",
    "        dummy = [str(grade) + '000']\n",
    "        serial += dummy * (5-cnt)\n",
    "\n",
    "    preprocess_(serial, grade-1)\n",
    "\n",
    "lst = []\n",
    "def search(serial, grade):\n",
    "    if len(serial) == 0:\n",
    "        return\n",
    "\n",
    "    temp = []\n",
    "    for n in range(grade):\n",
    "        for i in range(len(serial)):\n",
    "            if serial[i][1] not in [k[1] for k in temp]:\n",
    "                if serial[i][0] == str(n+1):\n",
    "                    temp.append(serial.pop(i))\n",
    "                    break\n",
    "\n",
    "    if len(temp) == grade:\n",
    "        lst.append(temp)\n",
    "    else:\n",
    "        serial.extend(temp)\n",
    "        for g in lst:\n",
    "            for s in range(len(serial)):\n",
    "                if serial[s][1] not in [j[1] for j in g]:\n",
    "                    for u in range(len(g)):\n",
    "                        if g[u][0] == serial[s][0]:\n",
    "                            g[u], serial[s] = serial[s], g[u]\n",
    "\n",
    "    search(lst_serial, grade)\n",
    "\n",
    "lst_serial, dct_lecture, grade = load_('/mnt/c/Users/MLKU/Lecture/swtk/Table/lecture.xlsx')\n",
    "preprocess_(lst_serial, grade)\n",
    "search(lst_serial, grade)\n",
    "\n",
    "lst"
   ]
  }
 ],
 "metadata": {
  "kernelspec": {
   "display_name": "base",
   "language": "python",
   "name": "python3"
  },
  "language_info": {
   "codemirror_mode": {
    "name": "ipython",
    "version": 3
   },
   "file_extension": ".py",
   "mimetype": "text/x-python",
   "name": "python",
   "nbconvert_exporter": "python",
   "pygments_lexer": "ipython3",
   "version": "3.9.7"
  }
 },
 "nbformat": 4,
 "nbformat_minor": 2
}
