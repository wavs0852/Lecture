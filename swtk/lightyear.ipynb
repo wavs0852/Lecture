{
 "cells": [
  {
   "cell_type": "code",
   "execution_count": 4,
   "metadata": {},
   "outputs": [
    {
     "name": "stdout",
     "output_type": "stream",
     "text": [
      "Earth                                                             Alpha Centauri     YEAR  |  DAY  |  HOUR\n",
      "□□□□□□□□□□□□□□□□□□□□□□□□□□□□□□□□□□□□□□□□□□□□□□□□□□□□□□□□□□□□□□□□□□□□□□□□□□□□□□□■     8599  |   66  |    11\n",
      "■□□□□□□□□□□□□□□□□□□□□□□□□□□□□□□□□□□□□□□□□□□□□□□□□□□□□□□□□□□□□□□□□□□□□□□□□□□□□□□□    17198  |  132  |    22\n"
     ]
    }
   ],
   "source": [
    "import time\n",
    "from sys import stdout\n",
    "\n",
    "# calculator\n",
    "km_ly = 9460730472580.8\n",
    "km_alpha = km_ly * 4.22\n",
    "rt_alpha = km_alpha * 2\n",
    "parker = 530000\n",
    "\n",
    "tothour = round(rt_alpha // parker)\n",
    "unit, hour = divmod(tothour, 24)\n",
    "year, day = divmod(unit, 365)\n",
    "\n",
    "# progress bar\n",
    "proglst = []\n",
    "proglen = 80\n",
    "progspd = 0.1\n",
    "\n",
    "print(f\"Earth{'  '*30} Alpha Centauri\", end='') #70\n",
    "print(\"    %5s  |  %3s  |  %4s\" % ('YEAR', 'DAY', 'HOUR'))\n",
    "\n",
    "for fgo in range(proglen):\n",
    "  progbar = list(\"□\" * proglen)\n",
    "  progbar[fgo] = \"■\"\n",
    "  proglst.append(progbar)\n",
    "  stdout.write(f\"\\r{''.join(progbar)}\")\n",
    "  stdout.flush()\n",
    "  time.sleep(progspd)\n",
    "  if fgo == proglen - 1:\n",
    "    print(\"    %5d  |  %3d  |  %4d\" % (year/2, day/2, hour/2))\n",
    "\n",
    "for sgo in reversed(proglst):\n",
    "  stdout.write(f\"\\r{''.join(sgo)}\")\n",
    "  stdout.flush()\n",
    "  time.sleep(progspd)\n",
    "  if sgo == proglst[0]:\n",
    "    print(\"    %5d  |  %3d  |  %4d\" % (year, day, hour))"
   ]
  },
  {
   "cell_type": "code",
   "execution_count": null,
   "metadata": {},
   "outputs": [],
   "source": []
  },
  {
   "cell_type": "code",
   "execution_count": 2,
   "metadata": {},
   "outputs": [
    {
     "name": "stdout",
     "output_type": "stream",
     "text": [
      "    @(^0^)=@   "
     ]
    },
    {
     "ename": "KeyboardInterrupt",
     "evalue": "",
     "output_type": "error",
     "traceback": [
      "\u001b[0;31m---------------------------------------------------------------------------\u001b[0m",
      "\u001b[0;31mKeyboardInterrupt\u001b[0m                         Traceback (most recent call last)",
      "\u001b[0;32m/tmp/ipykernel_3414/2962602926.py\u001b[0m in \u001b[0;36m<module>\u001b[0;34m\u001b[0m\n\u001b[1;32m     19\u001b[0m         \u001b[0mprint\u001b[0m\u001b[0;34m(\u001b[0m\u001b[0;34m'\\r'\u001b[0m\u001b[0;34m,\u001b[0m \u001b[0mi\u001b[0m\u001b[0;34m,\u001b[0m \u001b[0mend\u001b[0m\u001b[0;34m=\u001b[0m\u001b[0;34m' '\u001b[0m\u001b[0;34m)\u001b[0m\u001b[0;34m\u001b[0m\u001b[0;34m\u001b[0m\u001b[0m\n\u001b[1;32m     20\u001b[0m         \u001b[0mstdout\u001b[0m\u001b[0;34m.\u001b[0m\u001b[0mflush\u001b[0m\u001b[0;34m(\u001b[0m\u001b[0;34m)\u001b[0m\u001b[0;34m\u001b[0m\u001b[0;34m\u001b[0m\u001b[0m\n\u001b[0;32m---> 21\u001b[0;31m         \u001b[0mtime\u001b[0m\u001b[0;34m.\u001b[0m\u001b[0msleep\u001b[0m\u001b[0;34m(\u001b[0m\u001b[0;36m0.2\u001b[0m\u001b[0;34m)\u001b[0m\u001b[0;34m\u001b[0m\u001b[0;34m\u001b[0m\u001b[0m\n\u001b[0m",
      "\u001b[0;31mKeyboardInterrupt\u001b[0m: "
     ]
    }
   ],
   "source": [
    "from sys import stdout\n",
    "import time\n",
    "\n",
    "lst = ['@===(^0^)@   ',\n",
    "       ' @==(^0^)@   ', \n",
    "       '  @=(^0^)@   ', \n",
    "       '   @(^0^)@   ', \n",
    "       '   @(^0^)=@  ', \n",
    "       '   @(^0^)==@ ',\n",
    "       '   @(^0^)===@',\n",
    "       '   @(^0^)==@ ',\n",
    "       '   @(^0^)=@  ',\n",
    "       '   @(^0^)@   ',\n",
    "       '  @=(^0^)@   ',\n",
    "       ' @==(^0^)@   ']\n",
    "\n",
    "for s in range(10):\n",
    "    for i in lst:\n",
    "        print('\\r', i, end=' ')\n",
    "        stdout.flush()\n",
    "        time.sleep(0.2)"
   ]
  },
  {
   "cell_type": "code",
   "execution_count": 8,
   "metadata": {},
   "outputs": [
    {
     "name": "stdout",
     "output_type": "stream",
     "text": [
      "Earth                                                             Alpha Centauri     YEAR  |  DAY  |  HOUR\n",
      "□□□□□□□□□□□□□□□□□□□□□□□□□□□□□□□□□□□□□□□□□□□□□□□□□□□□□□□□□□□□□□□□□□□□□□□□□□□□□□□■     8599  |   66  |    11\n",
      "■□□□□□□□□□□□□□□□□□□□□□□□□□□□□□□□□□□□□□□□□□□□□□□□□□□□□□□□□□□□□□□□□□□□□□□□□□□□□□□□    17198  |  132  |    22\n"
     ]
    }
   ],
   "source": [
    "import time\n",
    "\n",
    "# calculator\n",
    "km_ly = 9460730472580.8\n",
    "km_alpha = km_ly * 4.22\n",
    "rt_alpha = km_alpha * 2\n",
    "parker = 530000\n",
    "\n",
    "tothour = round(rt_alpha / parker)\n",
    "unit, hour = divmod(tothour, 24)\n",
    "year, day = divmod(unit, 365)\n",
    "\n",
    "# progress bar\n",
    "proglst = []\n",
    "proglen = 80\n",
    "progtme = 0.1\n",
    "\n",
    "print(f\"Earth{'  '*30} Alpha Centauri\", end='') #70\n",
    "print(\"    %5s  |  %3s  |  %4s\" % ('YEAR', 'DAY', 'HOUR'))\n",
    "\n",
    "for fgo in range(proglen):\n",
    "  progbar = list(\"□\" * proglen)\n",
    "  progbar[fgo] = \"■\"\n",
    "  proglst.append(progbar)\n",
    "  print(f\"\\r{''.join(progbar)}\", end='', flush=True)\n",
    "  time.sleep(progtme)\n",
    "  if fgo == proglen -1 :\n",
    "    print(\"    %5d  |  %3d  |  %4d\" % (year/2, day/2, hour/2))\n",
    "\n",
    "for sgo in reversed(proglst):\n",
    "  print(f\"\\r{''.join(sgo)}\", end='', flush=True)\n",
    "  time.sleep(progtme)\n",
    "  if sgo == proglst[0]:\n",
    "    print(\"    %5d  |  %3d  |  %4d\" % (year, day, hour))"
   ]
  }
 ],
 "metadata": {
  "kernelspec": {
   "display_name": "wavs",
   "language": "python",
   "name": "python3"
  },
  "language_info": {
   "codemirror_mode": {
    "name": "ipython",
    "version": 3
   },
   "file_extension": ".py",
   "mimetype": "text/x-python",
   "name": "python",
   "nbconvert_exporter": "python",
   "pygments_lexer": "ipython3",
   "version": "3.9.7"
  },
  "orig_nbformat": 4
 },
 "nbformat": 4,
 "nbformat_minor": 2
}
