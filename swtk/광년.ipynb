{
 "cells": [
  {
   "cell_type": "code",
   "execution_count": 9,
   "metadata": {},
   "outputs": [
    {
     "name": "stdout",
     "output_type": "stream",
     "text": [
      "Earth                                                             Alpha Centauri     YEAR  |  DAY  |  HOUR\n",
      "□□□□□□□□□□□□□□□□□□□□□□□□□□□□□□□□□□□□□□□□□□□□□□□□□□□□□□□□□□□□□□□□□□□□□□□□□□□□□□□■     8599  |   66  |    11\n",
      "■□□□□□□□□□□□□□□□□□□□□□□□□□□□□□□□□□□□□□□□□□□□□□□□□□□□□□□□□□□□□□□□□□□□□□□□□□□□□□□□    17198  |  132  |    22\n"
     ]
    }
   ],
   "source": [
    "import time\n",
    "from sys import stdout\n",
    "\n",
    "# calculator\n",
    "km_ly = 9460730472580.8\n",
    "km_alpha = km_ly * 4.22\n",
    "rt_alpha = km_alpha * 2\n",
    "parker = 530000\n",
    "\n",
    "tothour = round(rt_alpha // parker)\n",
    "unit, hour = divmod(tothour, 24)\n",
    "year, day = divmod(unit, 365)\n",
    "\n",
    "# progress bar\n",
    "proglst = []\n",
    "proglen = 80\n",
    "progspd = 0.1\n",
    "\n",
    "print(f\"Earth{'  '*30} Alpha Centauri\", end='') #70\n",
    "print(\"    %5s  |  %3s  |  %4s\" % ('YEAR', 'DAY', 'HOUR'))\n",
    "\n",
    "for fgo in range(proglen):\n",
    "  progbar = list(\"□\" * proglen)\n",
    "  progbar[fgo] = \"■\"\n",
    "  proglst.append(progbar)\n",
    "  stdout.write(f\"\\r{''.join(progbar)}\")\n",
    "  stdout.flush()\n",
    "  time.sleep(progspd)\n",
    "  if fgo == proglen - 1:\n",
    "    print(\"    %5d  |  %3d  |  %4d\" % (year/2, day/2, hour/2))\n",
    "\n",
    "for sgo in reversed(proglst):\n",
    "  stdout.write(f\"\\r{''.join(sgo)}\")\n",
    "  stdout.flush()\n",
    "  time.sleep(progspd)\n",
    "  if sgo == proglst[0]:\n",
    "    print(\"    %5d  |  %3d  |  %4d\" % (year, day, hour))"
   ]
  },
  {
   "cell_type": "code",
   "execution_count": 9,
   "metadata": {},
   "outputs": [
    {
     "name": "stdout",
     "output_type": "stream",
     "text": [
      "Earth                                                             Alpha Centauri     YEAR  |  DAY  |  HOUR\n",
      "□□□□□□□□□□□□□□□□□□□□□□□□□□□□□□□□□□□□□□□□□□□□□□□□□□□□□□□□□□□□□□□□□□□□□□□□□□□□□□□■     8599  |   66  |    11\n",
      "■□□□□□□□□□□□□□□□□□□□□□□□□□□□□□□□□□□□□□□□□□□□□□□□□□□□□□□□□□□□□□□□□□□□□□□□□□□□□□□□    17198  |  132  |    22\n"
     ]
    }
   ],
   "source": [
    "import time\n",
    "\n",
    "# calculator\n",
    "km_ly = 9460730472580.8\n",
    "km_alpha = km_ly * 4.22\n",
    "rt_alpha = km_alpha * 2\n",
    "parker = 530000\n",
    "\n",
    "tothour = round(rt_alpha / parker)\n",
    "unit, hour = divmod(tothour, 24)\n",
    "year, day = divmod(unit, 365)\n",
    "\n",
    "# progress bar\n",
    "proglst = []\n",
    "proglen = 80\n",
    "progtme = 0.1\n",
    "\n",
    "print(f\"Earth{'  '*30} Alpha Centauri\", end='') #70\n",
    "print(\"    %5s  |  %3s  |  %4s\" % ('YEAR', 'DAY', 'HOUR'))\n",
    "\n",
    "for fgo in range(proglen):\n",
    "  progbar = list(\"□\" * proglen)\n",
    "  progbar[fgo] = \"■\"\n",
    "  proglst.append(progbar)\n",
    "  print(f\"\\r{''.join(progbar)}\", end='', flush=True)\n",
    "  time.sleep(progtme)\n",
    "  if fgo == proglen - 1:\n",
    "    print(\"    %5d  |  %3d  |  %4d\" % (year/2, day/2, hour/2))\n",
    "\n",
    "for sgo in reversed(proglst):\n",
    "  print(f\"\\r{''.join(sgo)}\", end='', flush=True)\n",
    "  time.sleep(progtme)\n",
    "  if sgo == proglst[0]:\n",
    "    print(\"    %5d  |  %3d  |  %4d\" % (year, day, hour))"
   ]
  },
  {
   "cell_type": "code",
   "execution_count": 7,
   "metadata": {},
   "outputs": [
    {
     "name": "stdout",
     "output_type": "stream",
     "text": [
      "Earth                              Alpha Centauri\n",
      "     YEAR  |  DAY  |  HOUR\n",
      "■■■■■■■■■■■■■■■■■■■■■■■■■■■■■■■■■■■■■■■■■■■■■■■■■■■■■■■■■■■■■■■■■■■■■■■■■■■■■■■■     8599  |  1595  |  75328835\n",
      "□□□□□□□□□□□□□□□□□□□□□□□□□□□□□□□□□□□□□□□□□□□□□□□□□□□□□□□□□□□□□□□□□□□□□□□□□□□□□□□□    17198  |  3190  |  150657670\n"
     ]
    }
   ],
   "source": [
    "import time\n",
    "\n",
    "# Constants\n",
    "km_ly = 9460730472580.8\n",
    "km_alpha = km_ly * 4.22\n",
    "rt_alpha = km_alpha * 2\n",
    "parker = 530000\n",
    "\n",
    "# Calculate time\n",
    "tothour = round(rt_alpha / parker)\n",
    "year, day = divmod(tothour, 24 * 365)\n",
    "\n",
    "# Progress bar\n",
    "proglen = 80\n",
    "progtme = 0.1\n",
    "\n",
    "print(f\"Earth{' ' * 30}Alpha Centauri\")\n",
    "print(\"    %5s  |  %3s  |  %4s\" % ('YEAR', 'DAY', 'HOUR'))\n",
    "\n",
    "for fgo in range(proglen + 1):\n",
    "    progress = fgo / proglen\n",
    "    progbar = \"■\" * int(progress * proglen) + \"□\" * (proglen - int(progress * proglen))\n",
    "    print(f\"\\r{progbar}\", end='', flush=True)\n",
    "    if fgo == proglen:\n",
    "        print(f\"    {year // 2:5d}  |  {day // 2:3d}  |  {tothour // 2:4d}\")\n",
    "    time.sleep(progtme)\n",
    "\n",
    "for sgo in range(proglen, -1, -1):\n",
    "    progress = sgo / proglen\n",
    "    progbar = \"■\" * int(progress * proglen) + \"□\" * (proglen - int(progress * proglen))\n",
    "    print(f\"\\r{progbar}\", end='', flush=True)\n",
    "    if sgo == 0:\n",
    "        print(f\"    {year:5d}  |  {day:3d}  |  {tothour:4d}\")\n",
    "    time.sleep(progtme)"
   ]
  }
 ],
 "metadata": {
  "kernelspec": {
   "display_name": "wavs",
   "language": "python",
   "name": "python3"
  },
  "language_info": {
   "codemirror_mode": {
    "name": "ipython",
    "version": 3
   },
   "file_extension": ".py",
   "mimetype": "text/x-python",
   "name": "python",
   "nbconvert_exporter": "python",
   "pygments_lexer": "ipython3",
   "version": "3.11.4"
  },
  "orig_nbformat": 4
 },
 "nbformat": 4,
 "nbformat_minor": 2
}
