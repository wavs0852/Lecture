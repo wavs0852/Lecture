{
 "cells": [
  {
   "cell_type": "code",
   "execution_count": 4,
   "metadata": {},
   "outputs": [
    {
     "name": "stdout",
     "output_type": "stream",
     "text": [
      "Earth                                                             Alpha Centauri     YEAR  |  DAY  |  HOUR\n",
      "□□□□□□□□□□□□□□□□□□□□□□□□□□□□□□□□□□□□□□□□□□□□□□□□□□□□□□□□□□□□□□□□□□□□□□□□□□□□□□□■     8599  |   66  |    11\n",
      "■□□□□□□□□□□□□□□□□□□□□□□□□□□□□□□□□□□□□□□□□□□□□□□□□□□□□□□□□□□□□□□□□□□□□□□□□□□□□□□□    17198  |  132  |    22\n"
     ]
    }
   ],
   "source": [
    "import time\n",
    "from sys import stdout\n",
    "\n",
    "# calculator\n",
    "km_ly = 9460730472580.8\n",
    "km_alpha = km_ly * 4.22\n",
    "rt_alpha = km_alpha * 2\n",
    "parker = 530000\n",
    "\n",
    "tothour = round(rt_alpha // parker)\n",
    "unit, hour = divmod(tothour, 24)\n",
    "year, day = divmod(unit, 365)\n",
    "\n",
    "# progress bar\n",
    "proglst = []\n",
    "proglen = 80\n",
    "progspd = 0.1\n",
    "\n",
    "print(f\"Earth{'  '*30} Alpha Centauri\", end='') #70\n",
    "print(\"    %5s  |  %3s  |  %4s\" % ('YEAR', 'DAY', 'HOUR'))\n",
    "\n",
    "for fgo in range(proglen):\n",
    "  progbar = list(\"□\" * proglen)\n",
    "  progbar[fgo] = \"■\"\n",
    "  proglst.append(progbar)\n",
    "  stdout.write(f\"\\r{''.join(progbar)}\")\n",
    "  stdout.flush()\n",
    "  time.sleep(progspd)\n",
    "  if fgo == proglen - 1:\n",
    "    print(\"    %5d  |  %3d  |  %4d\" % (year/2, day/2, hour/2))\n",
    "\n",
    "for sgo in reversed(proglst):\n",
    "  stdout.write(f\"\\r{''.join(sgo)}\")\n",
    "  stdout.flush()\n",
    "  time.sleep(progspd)\n",
    "  if sgo == proglst[0]:\n",
    "    print(\"    %5d  |  %3d  |  %4d\" % (year, day, hour))"
   ]
  },
  {
   "cell_type": "code",
   "execution_count": 46,
   "metadata": {},
   "outputs": [
    {
     "name": "stdout",
     "output_type": "stream",
     "text": [
      "■■■■■■■■■■■■■■■■■■■■■■■■■■■■■■■■■■■■■■■■■■■■■■■■■■■■■■■■■■■■■■■■■■■■■■■■■■■■■■■■■■■■■■■■■■■■■■■■■■■■"
     ]
    }
   ],
   "source": [
    "from sys import stdout\n",
    "import time\n",
    "def progressbar():\n",
    "    cnt = 100\n",
    "    progbar = ['□'] * cnt\n",
    "    for i in range(cnt):\n",
    "        progbar[i] = '■'\n",
    "        print(f\"\\r{''.join(progbar)}\", end='', flush=True)\n",
    "        time.sleep(0.2)\n",
    "\n",
    "progressbar()"
   ]
  },
  {
   "cell_type": "code",
   "execution_count": 9,
   "metadata": {},
   "outputs": [
    {
     "name": "stdout",
     "output_type": "stream",
     "text": [
      "  @==(^0^)@   "
     ]
    }
   ],
   "source": [
    "from sys import stdout\n",
    "import time\n",
    "\n",
    "lst = ['@===(^0^)@   ',\n",
    "       ' @==(^0^)@   ', \n",
    "       '  @=(^0^)@   ', \n",
    "       '   @(^0^)@   ', \n",
    "       '   @(^0^)=@  ', \n",
    "       '   @(^0^)==@ ',\n",
    "       '   @(^0^)===@',\n",
    "       '   @(^0^)==@ ',\n",
    "       '   @(^0^)=@  ',\n",
    "       '   @(^0^)@   ',\n",
    "       '  @=(^0^)@   ',\n",
    "       ' @==(^0^)@   ']\n",
    "\n",
    "for s in range(10):\n",
    "    for i in lst:\n",
    "        print('\\r', i, end='', flush=True)\n",
    "        time.sleep(0.2)"
   ]
  },
  {
   "cell_type": "code",
   "execution_count": 15,
   "metadata": {},
   "outputs": [
    {
     "name": "stdout",
     "output_type": "stream",
     "text": [
      "▅ ▂▂█▁▁▃▄  ▂▁▄▄▁ ▄▄▅▁ ▁ ▁ \n",
      "ABCDEFGHIJKLMNOPQRSTUVWXYZ"
     ]
    }
   ],
   "source": [
    "freq = [ \n",
    "  8.04, 1.48, 3.34, 3.82, 12.49,\n",
    "  2.40, 1.87, 5.05, 7.57,  0.16,\n",
    "  0.54, 4.07, 2.51, 7.23,  7.64,\n",
    "  2.14, 0.12, 6.28, 6.51,  9.28,\n",
    "  2.73, 1.05, 1.68, 0.23,  1.66,\n",
    "  0.09,\n",
    "]\n",
    "m = max(freq)\n",
    "\n",
    "for i in range(26):\n",
    "    u = int(8*freq[i]/m)\n",
    "    ch = chr(0x2580+u) if u > 0 else \" \"\n",
    "    print(ch, end=\"\")\n",
    "\n",
    "print()\n",
    "for i in range(26):\n",
    "    print(chr(0x41+i), end=\"\")"
   ]
  },
  {
   "cell_type": "code",
   "execution_count": 8,
   "metadata": {},
   "outputs": [
    {
     "name": "stdout",
     "output_type": "stream",
     "text": [
      "Earth                                                             Alpha Centauri     YEAR  |  DAY  |  HOUR\n",
      "□□□□□□□□□□□□□□□□□□□□□□□□□□□□□□□□□□□□□□□□□□□□□□□□□□□□□□□□□□□□□□□□□□□□□□□□□□□□□□□■     8599  |   66  |    11\n",
      "■□□□□□□□□□□□□□□□□□□□□□□□□□□□□□□□□□□□□□□□□□□□□□□□□□□□□□□□□□□□□□□□□□□□□□□□□□□□□□□□    17198  |  132  |    22\n"
     ]
    }
   ],
   "source": [
    "import time\n",
    "\n",
    "# calculator\n",
    "km_ly = 9460730472580.8\n",
    "km_alpha = km_ly * 4.22\n",
    "rt_alpha = km_alpha * 2\n",
    "parker = 530000\n",
    "\n",
    "tothour = round(rt_alpha / parker)\n",
    "unit, hour = divmod(tothour, 24)\n",
    "year, day = divmod(unit, 365)\n",
    "\n",
    "# progress bar\n",
    "proglst = []\n",
    "proglen = 80\n",
    "progtme = 0.1\n",
    "\n",
    "print(f\"Earth{'  '*30} Alpha Centauri\", end='') #70\n",
    "print(\"    %5s  |  %3s  |  %4s\" % ('YEAR', 'DAY', 'HOUR'))\n",
    "\n",
    "for fgo in range(proglen):\n",
    "  progbar = list(\"□\" * proglen)\n",
    "  progbar[fgo] = \"■\"\n",
    "  proglst.append(progbar)\n",
    "  print(f\"\\r{''.join(progbar)}\", end='', flush=True)\n",
    "  time.sleep(progtme)\n",
    "  if fgo == proglen -1 :\n",
    "    print(\"    %5d  |  %3d  |  %4d\" % (year/2, day/2, hour/2))\n",
    "\n",
    "for sgo in reversed(proglst):\n",
    "  print(f\"\\r{''.join(sgo)}\", end='', flush=True)\n",
    "  time.sleep(progtme)\n",
    "  if sgo == proglst[0]:\n",
    "    print(\"    %5d  |  %3d  |  %4d\" % (year, day, hour))"
   ]
  }
 ],
 "metadata": {
  "kernelspec": {
   "display_name": "wavs",
   "language": "python",
   "name": "python3"
  },
  "language_info": {
   "codemirror_mode": {
    "name": "ipython",
    "version": 3
   },
   "file_extension": ".py",
   "mimetype": "text/x-python",
   "name": "python",
   "nbconvert_exporter": "python",
   "pygments_lexer": "ipython3",
   "version": "3.9.7"
  },
  "orig_nbformat": 4
 },
 "nbformat": 4,
 "nbformat_minor": 2
}
